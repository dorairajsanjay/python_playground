{
 "cells": [
  {
   "cell_type": "code",
   "execution_count": 1,
   "metadata": {},
   "outputs": [],
   "source": [
    "words = [\"star\", \"rats\",\"car\",\"arc\",\"arts\",\"stars\"]"
   ]
  },
  {
   "cell_type": "code",
   "execution_count": null,
   "metadata": {},
   "outputs": [],
   "source": []
  },
  {
   "cell_type": "code",
   "execution_count": 18,
   "metadata": {},
   "outputs": [
    {
     "data": {
      "text/plain": [
       "['e', 'h', 'l', 'l', 'o']"
      ]
     },
     "execution_count": 18,
     "metadata": {},
     "output_type": "execute_result"
    }
   ],
   "source": [
    "sorted('hello')"
   ]
  },
  {
   "cell_type": "code",
   "execution_count": 24,
   "metadata": {},
   "outputs": [
    {
     "name": "stdout",
     "output_type": "stream",
     "text": [
      "['arts', 'rats', 'star']\n",
      "['car', 'arc']\n",
      "['stars']\n"
     ]
    }
   ],
   "source": [
    "buckets = {}\n",
    "for word1 in words:\n",
    "    for word2 in words:\n",
    "        if sorted(word1) == sorted(word2):\n",
    "            temp = \"\".join(sorted(word1))\n",
    "            if buckets.get(temp) == None:\n",
    "                buckets[temp] = [word1]\n",
    "            buckets[temp].append(word2)\n",
    "            \n",
    "for key in buckets:\n",
    "    print(list(set(buckets[key])))\n",
    "\n",
    "                "
   ]
  },
  {
   "cell_type": "code",
   "execution_count": 61,
   "metadata": {},
   "outputs": [],
   "source": [
    "def anagram(words):\n",
    "    \n",
    "    keys = set([\"\".join(sorted(word)) for word in words])\n",
    "    buckets = dict.fromkeys(keys)\n",
    "\n",
    "    for word in words:\n",
    "        temp = \"\".join(sorted(word))\n",
    "\n",
    "        if buckets[temp] == None:\n",
    "            buckets[temp] = [temp]\n",
    "        else:\n",
    "            buckets[temp].append(word)\n",
    "\n",
    "    return list(buckets.values())"
   ]
  },
  {
   "cell_type": "code",
   "execution_count": 62,
   "metadata": {},
   "outputs": [
    {
     "data": {
      "text/plain": [
       "[['acr', 'arc'], ['arst', 'rats', 'arts'], ['arsst']]"
      ]
     },
     "execution_count": 62,
     "metadata": {},
     "output_type": "execute_result"
    }
   ],
   "source": [
    "anagram(words)"
   ]
  },
  {
   "cell_type": "code",
   "execution_count": 20,
   "metadata": {},
   "outputs": [
    {
     "data": {
      "text/plain": [
       "{'arst': ['star',\n",
       "  'star',\n",
       "  'rats',\n",
       "  'arts',\n",
       "  'star',\n",
       "  'rats',\n",
       "  'arts',\n",
       "  'star',\n",
       "  'rats',\n",
       "  'arts'],\n",
       " 'acr': ['car', 'car', 'arc', 'car', 'arc'],\n",
       " 'arsst': ['stars', 'stars']}"
      ]
     },
     "execution_count": 20,
     "metadata": {},
     "output_type": "execute_result"
    }
   ],
   "source": [
    "buckets"
   ]
  },
  {
   "cell_type": "code",
   "execution_count": 10,
   "metadata": {},
   "outputs": [
    {
     "name": "stdout",
     "output_type": "stream",
     "text": [
      "None\n"
     ]
    }
   ],
   "source": [
    "print(buckets.get('temp'))"
   ]
  },
  {
   "cell_type": "code",
   "execution_count": 81,
   "metadata": {},
   "outputs": [],
   "source": [
    "def getTotalX(a, b):\n",
    "    # Write your code here\n",
    "\n",
    "    retval = []\n",
    "    for x in range(2,b[0]+1):\n",
    "        #print(\"x:\",x)\n",
    "        temp1 = [x%y for y in a]\n",
    "        #print(\"temp1:\",temp1)\n",
    "        if sum(temp1) == 0:\n",
    "            temp2 = [y%x for y in b]\n",
    "            #print(\"temp2:\",temp2)\n",
    "            if sum(temp2) == 0:\n",
    "                retval.append(x)\n",
    "\n",
    "    return retval"
   ]
  },
  {
   "cell_type": "code",
   "execution_count": 82,
   "metadata": {},
   "outputs": [
    {
     "data": {
      "text/plain": [
       "[6, 12]"
      ]
     },
     "execution_count": 82,
     "metadata": {},
     "output_type": "execute_result"
    }
   ],
   "source": [
    "getTotalX([2,6],[24,36])"
   ]
  },
  {
   "cell_type": "code",
   "execution_count": 95,
   "metadata": {},
   "outputs": [],
   "source": [
    "# all possible sequences\n",
    "\n",
    "values = ['A','B']"
   ]
  },
  {
   "cell_type": "code",
   "execution_count": 114,
   "metadata": {},
   "outputs": [],
   "source": [
    "def get_sequences(temp_sequence = None, current_depth = 0, max_depth = len(values)):\n",
    "    \n",
    "    if temp_sequence == None:\n",
    "        temp_sequence = list()\n",
    "        \n",
    "    for val in values:\n",
    "        \n",
    "        new_sequence = list(temp_sequence).append(val)\n",
    "        \n",
    "        if current_depth != max_depth-1:\n",
    "            get_sequences(new_sequence, current_depth+1)\n",
    "            \n",
    "        else:\n",
    "            \n",
    "            print(new_sequence)\n"
   ]
  },
  {
   "cell_type": "code",
   "execution_count": 115,
   "metadata": {},
   "outputs": [
    {
     "ename": "RecursionError",
     "evalue": "maximum recursion depth exceeded in comparison",
     "output_type": "error",
     "traceback": [
      "\u001b[0;31m---------------------------------------------------------------------------\u001b[0m",
      "\u001b[0;31mRecursionError\u001b[0m                            Traceback (most recent call last)",
      "\u001b[0;32m<ipython-input-115-76700046a124>\u001b[0m in \u001b[0;36m<module>\u001b[0;34m\u001b[0m\n\u001b[0;32m----> 1\u001b[0;31m \u001b[0mget_sequences\u001b[0m\u001b[0;34m(\u001b[0m\u001b[0mvalues\u001b[0m\u001b[0;34m)\u001b[0m\u001b[0;34m\u001b[0m\u001b[0;34m\u001b[0m\u001b[0m\n\u001b[0m",
      "\u001b[0;32m<ipython-input-114-261c59067371>\u001b[0m in \u001b[0;36mget_sequences\u001b[0;34m(temp_sequence, current_depth, max_depth)\u001b[0m\n\u001b[1;32m      9\u001b[0m \u001b[0;34m\u001b[0m\u001b[0m\n\u001b[1;32m     10\u001b[0m         \u001b[0;32mif\u001b[0m \u001b[0mcurrent_depth\u001b[0m \u001b[0;34m!=\u001b[0m \u001b[0mmax_depth\u001b[0m\u001b[0;34m-\u001b[0m\u001b[0;36m1\u001b[0m\u001b[0;34m:\u001b[0m\u001b[0;34m\u001b[0m\u001b[0;34m\u001b[0m\u001b[0m\n\u001b[0;32m---> 11\u001b[0;31m             \u001b[0mget_sequences\u001b[0m\u001b[0;34m(\u001b[0m\u001b[0mnew_sequence\u001b[0m\u001b[0;34m,\u001b[0m \u001b[0mcurrent_depth\u001b[0m\u001b[0;34m+\u001b[0m\u001b[0;36m1\u001b[0m\u001b[0;34m)\u001b[0m\u001b[0;34m\u001b[0m\u001b[0;34m\u001b[0m\u001b[0m\n\u001b[0m\u001b[1;32m     12\u001b[0m \u001b[0;34m\u001b[0m\u001b[0m\n\u001b[1;32m     13\u001b[0m         \u001b[0;32melse\u001b[0m\u001b[0;34m:\u001b[0m\u001b[0;34m\u001b[0m\u001b[0;34m\u001b[0m\u001b[0m\n",
      "... last 1 frames repeated, from the frame below ...\n",
      "\u001b[0;32m<ipython-input-114-261c59067371>\u001b[0m in \u001b[0;36mget_sequences\u001b[0;34m(temp_sequence, current_depth, max_depth)\u001b[0m\n\u001b[1;32m      9\u001b[0m \u001b[0;34m\u001b[0m\u001b[0m\n\u001b[1;32m     10\u001b[0m         \u001b[0;32mif\u001b[0m \u001b[0mcurrent_depth\u001b[0m \u001b[0;34m!=\u001b[0m \u001b[0mmax_depth\u001b[0m\u001b[0;34m-\u001b[0m\u001b[0;36m1\u001b[0m\u001b[0;34m:\u001b[0m\u001b[0;34m\u001b[0m\u001b[0;34m\u001b[0m\u001b[0m\n\u001b[0;32m---> 11\u001b[0;31m             \u001b[0mget_sequences\u001b[0m\u001b[0;34m(\u001b[0m\u001b[0mnew_sequence\u001b[0m\u001b[0;34m,\u001b[0m \u001b[0mcurrent_depth\u001b[0m\u001b[0;34m+\u001b[0m\u001b[0;36m1\u001b[0m\u001b[0;34m)\u001b[0m\u001b[0;34m\u001b[0m\u001b[0;34m\u001b[0m\u001b[0m\n\u001b[0m\u001b[1;32m     12\u001b[0m \u001b[0;34m\u001b[0m\u001b[0m\n\u001b[1;32m     13\u001b[0m         \u001b[0;32melse\u001b[0m\u001b[0;34m:\u001b[0m\u001b[0;34m\u001b[0m\u001b[0;34m\u001b[0m\u001b[0m\n",
      "\u001b[0;31mRecursionError\u001b[0m: maximum recursion depth exceeded in comparison"
     ]
    }
   ],
   "source": [
    "get_sequences(values)"
   ]
  },
  {
   "cell_type": "code",
   "execution_count": null,
   "metadata": {},
   "outputs": [],
   "source": []
  }
 ],
 "metadata": {
  "kernelspec": {
   "display_name": "Python 3",
   "language": "python",
   "name": "python3"
  },
  "language_info": {
   "codemirror_mode": {
    "name": "ipython",
    "version": 3
   },
   "file_extension": ".py",
   "mimetype": "text/x-python",
   "name": "python",
   "nbconvert_exporter": "python",
   "pygments_lexer": "ipython3",
   "version": "3.7.4"
  }
 },
 "nbformat": 4,
 "nbformat_minor": 2
}
